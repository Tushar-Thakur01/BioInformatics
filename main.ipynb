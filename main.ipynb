{
 "cells": [
  {
   "cell_type": "code",
   "execution_count": 1,
   "metadata": {},
   "outputs": [],
   "source": [
    "import pandas as pd\n",
    "import numpy as np\n",
    "from sklearn.model_selection import train_test_split\n",
    "import keras\n",
    "from keras.datasets import mnist\n",
    "from keras.models import Sequential\n",
    "from keras.layers import Dense, Dropout\n",
    "test_size=0.1\n",
    "batch_size = 1024\n",
    "epochs = 20"
   ]
  },
  {
   "cell_type": "code",
   "execution_count": 2,
   "metadata": {},
   "outputs": [],
   "source": [
    "data = pd.read_csv('gene_expression_regression.csv')\n",
    "data_array=data.iloc[:,1:].values\n",
    "X = data_array[:,:943]\n",
    "Y = data_array[:,-1]"
   ]
  },
  {
   "cell_type": "code",
   "execution_count": 3,
   "metadata": {},
   "outputs": [],
   "source": [
    "x_train, x_test, y_train, y_test = train_test_split(X, Y, test_size=test_size)\n",
    "model = Sequential()\n",
    "model.add(Dense(512, activation='relu', input_shape=(X.shape[1],)))\n",
    "model.add(Dropout(0.2))\n",
    "model.add(Dense(512, activation='relu'))\n",
    "model.add(Dropout(0.2))\n",
    "model.add(Dense(1, activation='tanh'))"
   ]
  },
  {
   "cell_type": "code",
   "execution_count": 4,
   "metadata": {},
   "outputs": [
    {
     "name": "stdout",
     "output_type": "stream",
     "text": [
      "Model: \"sequential\"\n",
      "_________________________________________________________________\n",
      " Layer (type)                Output Shape              Param #   \n",
      "=================================================================\n",
      " dense (Dense)               (None, 512)               483328    \n",
      "                                                                 \n",
      " dropout (Dropout)           (None, 512)               0         \n",
      "                                                                 \n",
      " dense_1 (Dense)             (None, 512)               262656    \n",
      "                                                                 \n",
      " dropout_1 (Dropout)         (None, 512)               0         \n",
      "                                                                 \n",
      " dense_2 (Dense)             (None, 1)                 513       \n",
      "                                                                 \n",
      "=================================================================\n",
      "Total params: 746,497\n",
      "Trainable params: 746,497\n",
      "Non-trainable params: 0\n",
      "_________________________________________________________________\n",
      "Epoch 1/20\n",
      "114/114 [==============================] - 8s 57ms/step - loss: 0.3182 - mae: 0.4013 - val_loss: 0.2061 - val_mae: 0.3238\n",
      "Epoch 2/20\n",
      "114/114 [==============================] - 6s 52ms/step - loss: 0.1992 - mae: 0.3186 - val_loss: 0.1863 - val_mae: 0.3036\n",
      "Epoch 3/20\n",
      "114/114 [==============================] - 6s 55ms/step - loss: 0.1790 - mae: 0.3009 - val_loss: 0.1766 - val_mae: 0.2978\n",
      "Epoch 4/20\n",
      "114/114 [==============================] - 6s 55ms/step - loss: 0.1679 - mae: 0.2900 - val_loss: 0.1697 - val_mae: 0.2891\n",
      "Epoch 5/20\n",
      "114/114 [==============================] - 6s 51ms/step - loss: 0.1598 - mae: 0.2820 - val_loss: 0.1671 - val_mae: 0.2851\n",
      "Epoch 6/20\n",
      "114/114 [==============================] - 6s 50ms/step - loss: 0.1543 - mae: 0.2762 - val_loss: 0.1634 - val_mae: 0.2824\n",
      "Epoch 7/20\n",
      "114/114 [==============================] - 6s 52ms/step - loss: 0.1495 - mae: 0.2706 - val_loss: 0.1625 - val_mae: 0.2820\n",
      "Epoch 8/20\n",
      "114/114 [==============================] - 6s 51ms/step - loss: 0.1460 - mae: 0.2670 - val_loss: 0.1608 - val_mae: 0.2800\n",
      "Epoch 9/20\n",
      "114/114 [==============================] - 6s 53ms/step - loss: 0.1431 - mae: 0.2633 - val_loss: 0.1600 - val_mae: 0.2776\n",
      "Epoch 10/20\n",
      "114/114 [==============================] - 6s 54ms/step - loss: 0.1398 - mae: 0.2593 - val_loss: 0.1590 - val_mae: 0.2756\n",
      "Epoch 11/20\n",
      "114/114 [==============================] - 6s 56ms/step - loss: 0.1378 - mae: 0.2568 - val_loss: 0.1579 - val_mae: 0.2737\n",
      "Epoch 12/20\n",
      "114/114 [==============================] - 6s 54ms/step - loss: 0.1361 - mae: 0.2542 - val_loss: 0.1583 - val_mae: 0.2745\n",
      "Epoch 13/20\n",
      "114/114 [==============================] - 6s 53ms/step - loss: 0.1341 - mae: 0.2518 - val_loss: 0.1557 - val_mae: 0.2713\n",
      "Epoch 14/20\n",
      "114/114 [==============================] - 6s 51ms/step - loss: 0.1321 - mae: 0.2491 - val_loss: 0.1555 - val_mae: 0.2721\n",
      "Epoch 15/20\n",
      "114/114 [==============================] - 6s 50ms/step - loss: 0.1317 - mae: 0.2483 - val_loss: 0.1569 - val_mae: 0.2706\n",
      "Epoch 16/20\n",
      "114/114 [==============================] - 5s 48ms/step - loss: 0.1304 - mae: 0.2461 - val_loss: 0.1585 - val_mae: 0.2750\n",
      "Epoch 17/20\n",
      "114/114 [==============================] - 6s 50ms/step - loss: 0.1296 - mae: 0.2454 - val_loss: 0.1564 - val_mae: 0.2713\n",
      "Epoch 18/20\n",
      "114/114 [==============================] - 6s 48ms/step - loss: 0.1272 - mae: 0.2418 - val_loss: 0.1555 - val_mae: 0.2690\n",
      "Epoch 19/20\n",
      "114/114 [==============================] - 5s 46ms/step - loss: 0.1261 - mae: 0.2399 - val_loss: 0.1555 - val_mae: 0.2693\n",
      "Epoch 20/20\n",
      "114/114 [==============================] - 5s 48ms/step - loss: 0.1255 - mae: 0.2388 - val_loss: 0.1533 - val_mae: 0.2670\n",
      "Test loss: 0.15332922339439392\n",
      "Test accuracy: 0.26699838042259216\n"
     ]
    }
   ],
   "source": [
    "model.summary()\n",
    "\n",
    "model.compile(loss='mean_squared_error',\n",
    "              optimizer=keras.optimizers.Adam(),\n",
    "              metrics=['mae'])\n",
    "\n",
    "history = model.fit(x_train, y_train,\n",
    "                    batch_size=batch_size,\n",
    "                    epochs=epochs,\n",
    "                    verbose=1,\n",
    "                    validation_data=(x_test, y_test))\n",
    "score = model.evaluate(x_test, y_test, verbose=0)\n",
    "print('Test loss:', score[0])\n",
    "print('Test accuracy:', score[1])"
   ]
  },
  {
   "cell_type": "code",
   "execution_count": 5,
   "metadata": {},
   "outputs": [
    {
     "name": "stdout",
     "output_type": "stream",
     "text": [
      "404/404 [==============================] - 2s 4ms/step\n"
     ]
    },
    {
     "data": {
      "text/plain": [
       "array([ 0.02049159, -0.44700676,  1.9820577 , ..., -1.3215548 ,\n",
       "        1.8257947 , -1.3968507 ])"
      ]
     },
     "execution_count": 5,
     "metadata": {},
     "output_type": "execute_result"
    }
   ],
   "source": [
    "y_pred=model.predict(x_test)\n",
    "y_test"
   ]
  },
  {
   "cell_type": "code",
   "execution_count": 6,
   "metadata": {},
   "outputs": [
    {
     "data": {
      "text/plain": [
       "array([[1.        , 0.93899933],\n",
       "       [0.93899933, 1.        ]])"
      ]
     },
     "execution_count": 6,
     "metadata": {},
     "output_type": "execute_result"
    }
   ],
   "source": [
    "np.corrcoef(y_test.flatten(), y_pred.flatten())"
   ]
  }
 ],
 "metadata": {
  "kernelspec": {
   "display_name": "Python 3",
   "language": "python",
   "name": "python3"
  },
  "language_info": {
   "codemirror_mode": {
    "name": "ipython",
    "version": 3
   },
   "file_extension": ".py",
   "mimetype": "text/x-python",
   "name": "python",
   "nbconvert_exporter": "python",
   "pygments_lexer": "ipython3",
   "version": "3.9.6"
  }
 },
 "nbformat": 4,
 "nbformat_minor": 2
}
